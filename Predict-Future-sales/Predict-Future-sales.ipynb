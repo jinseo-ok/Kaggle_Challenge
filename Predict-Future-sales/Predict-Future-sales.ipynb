{
 "cells": [
  {
   "cell_type": "code",
   "execution_count": 1,
   "metadata": {
    "Collapsed": "false"
   },
   "outputs": [],
   "source": [
    "import os\n",
    "import numpy as np\n",
    "import pandas as pd\n",
    "import matplotlib.pyplot as plt\n",
    "import seaborn as sns\n",
    "import warnings\n",
    "%matplotlib inline"
   ]
  },
  {
   "cell_type": "code",
   "execution_count": 2,
   "metadata": {
    "Collapsed": "false"
   },
   "outputs": [],
   "source": [
    "plt.style.use('seaborn') # seaborn 스타일로 변환\n",
    "sns.set(rc={'figure.figsize' : (15,7)})\n",
    "plt.rc('font', family='AppleGothic')\n",
    "plt.rc('axes', unicode_minus=False)\n",
    "warnings.filterwarnings('ignore')"
   ]
  },
  {
   "cell_type": "markdown",
   "metadata": {
    "Collapsed": "false"
   },
   "source": [
    "# 0. 대회 설명\n",
    "\n",
    "- 대회 : https://www.kaggle.com/c/competitive-data-science-predict-future-sales\n",
    "- 주제 : \n",
    "- 문제 정의 : "
   ]
  },
  {
   "cell_type": "markdown",
   "metadata": {
    "Collapsed": "false"
   },
   "source": [
    "# 1. 데이터 불러오기"
   ]
  },
  {
   "cell_type": "code",
   "execution_count": 3,
   "metadata": {
    "Collapsed": "false"
   },
   "outputs": [
    {
     "name": "stdout",
     "output_type": "stream",
     "text": [
      "Downloading competitive-data-science-predict-future-sales.zip to ../../Predict-Future-Sales\n",
      " 99%|█████████████████████████████████████▋| 15.0M/15.1M [00:00<00:00, 19.3MB/s]\n",
      "100%|██████████████████████████████████████| 15.1M/15.1M [00:00<00:00, 19.7MB/s]\n"
     ]
    }
   ],
   "source": [
    "!kaggle competitions download -c competitive-data-science-predict-future-sales -p ../../Predict-Future-Sales"
   ]
  },
  {
   "cell_type": "code",
   "execution_count": null,
   "metadata": {
    "Collapsed": "false"
   },
   "outputs": [],
   "source": []
  }
 ],
 "metadata": {
  "kernelspec": {
   "display_name": "Python 3",
   "language": "python",
   "name": "python3"
  },
  "language_info": {
   "codemirror_mode": {
    "name": "ipython",
    "version": 3
   },
   "file_extension": ".py",
   "mimetype": "text/x-python",
   "name": "python",
   "nbconvert_exporter": "python",
   "pygments_lexer": "ipython3",
   "version": "3.7.6"
  }
 },
 "nbformat": 4,
 "nbformat_minor": 4
}
