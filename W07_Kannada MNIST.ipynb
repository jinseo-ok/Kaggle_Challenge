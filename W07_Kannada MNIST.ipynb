{
 "cells": [
  {
   "cell_type": "code",
   "execution_count": null,
   "metadata": {
    "Collapsed": "false",
    "_cell_guid": "b1076dfc-b9ad-4769-8c92-a6c4dae69d19",
    "_uuid": "8f2839f25d086af736a60e9eeb907d3b93b6e0e5",
    "colab": {},
    "colab_type": "code",
    "id": "LbDU0cUD6b_-"
   },
   "outputs": [],
   "source": [
    "# This Python 3 environment comes with many helpful analytics libraries installed\n",
    "# It is defined by the kaggle/python Docker image: https://github.com/kaggle/docker-python\n",
    "# For example, here's several helpful packages to load\n",
    "\n",
    "import numpy as np # linear algebra\n",
    "import pandas as pd # data processing, CSV file I/O (e.g. pd.read_csv)\n",
    "\n",
    "# Input data files are available in the read-only \"../input/\" directory\n",
    "# For example, running this (by clicking run or pressing Shift+Enter) will list all files under the input directory\n",
    "\n",
    "import os\n",
    "for dirname, _, filenames in os.walk('/kaggle/input'):\n",
    "    for filename in filenames:\n",
    "        print(os.path.join(dirname, filename))\n",
    "\n",
    "# You can write up to 5GB to the current directory (/kaggle/working/) that gets preserved as output when you create a version using \"Save & Run All\" \n",
    "# You can also write temporary files to /kaggle/temp/, but they won't be saved outside of the current session"
   ]
  },
  {
   "cell_type": "code",
   "execution_count": 2,
   "metadata": {
    "Collapsed": "false",
    "colab": {
     "base_uri": "https://localhost:8080/",
     "height": 34
    },
    "colab_type": "code",
    "id": "WoybRNZyru4m",
    "outputId": "14467dd9-a3d5-4487-cdf2-caa85fe6a4f2"
   },
   "outputs": [
    {
     "name": "stdout",
     "output_type": "stream",
     "text": [
      "Mounted at /content/drive\n"
     ]
    }
   ],
   "source": [
    "from google.colab import drive\n",
    "drive.mount('/content/drive')"
   ]
  },
  {
   "cell_type": "code",
   "execution_count": 3,
   "metadata": {
    "Collapsed": "false",
    "colab": {
     "base_uri": "https://localhost:8080/",
     "height": 34
    },
    "colab_type": "code",
    "id": "uPz9kZ9Vr3bR",
    "outputId": "268ebce0-bc7e-435e-e27f-1d1c5218ddf9"
   },
   "outputs": [
    {
     "name": "stdout",
     "output_type": "stream",
     "text": [
      "/content/drive/My Drive/kaggle/W07_Kannada MNIST\n"
     ]
    }
   ],
   "source": [
    "cd /content/drive/My Drive/kaggle/W07_Kannada MNIST"
   ]
  },
  {
   "cell_type": "markdown",
   "metadata": {
    "Collapsed": "false",
    "colab_type": "text",
    "id": "IwmuYf3A6cAB"
   },
   "source": [
    "# 1. 데이터 불러오기 및 탐색"
   ]
  },
  {
   "cell_type": "code",
   "execution_count": 4,
   "metadata": {
    "Collapsed": "false",
    "colab": {
     "base_uri": "https://localhost:8080/",
     "height": 71
    },
    "colab_type": "code",
    "id": "h0evHilk6cAC",
    "outputId": "eead37d8-a7d7-4914-a562-154043330d6a"
   },
   "outputs": [
    {
     "name": "stderr",
     "output_type": "stream",
     "text": [
      "/usr/local/lib/python3.6/dist-packages/statsmodels/tools/_testing.py:19: FutureWarning: pandas.util.testing is deprecated. Use the functions in the public API at pandas.testing instead.\n",
      "  import pandas.util.testing as tm\n"
     ]
    }
   ],
   "source": [
    "import os\n",
    "import numpy as np\n",
    "import pandas as pd\n",
    "import matplotlib.pyplot as plt\n",
    "import seaborn as sns"
   ]
  },
  {
   "cell_type": "markdown",
   "metadata": {
    "Collapsed": "false",
    "colab_type": "text",
    "id": "v_f5s-Em6cAF"
   },
   "source": [
    "## 1-1. train, test 불러오기"
   ]
  },
  {
   "cell_type": "code",
   "execution_count": 5,
   "metadata": {
    "Collapsed": "false",
    "_cell_guid": "79c7e3d0-c299-4dcb-8224-4455121ee9b0",
    "_uuid": "d629ff2d2480ee46fbb7e2d37f6b5fab8052498a",
    "colab": {},
    "colab_type": "code",
    "id": "XAWpbrR76cAF"
   },
   "outputs": [],
   "source": [
    "try:\n",
    "  train  = pd.read_csv('/kaggle/input/Kannada-MNIST/train.csv')\n",
    "  test = pd.read_csv('/kaggle/input/Kannada-MNIST/test.csv')\n",
    "except:\n",
    "  train = pd.read_csv('train.csv.zip')\n",
    "  test = pd.read_csv('test.csv.zip')"
   ]
  },
  {
   "cell_type": "code",
   "execution_count": 6,
   "metadata": {
    "Collapsed": "false",
    "colab": {
     "base_uri": "https://localhost:8080/",
     "height": 51
    },
    "colab_type": "code",
    "id": "-TOiQObq6cAI",
    "outputId": "1d325bfd-03e0-4283-ef85-1e96050883ed"
   },
   "outputs": [
    {
     "name": "stdout",
     "output_type": "stream",
     "text": [
      "Train data shape: (60000, 785)\n",
      "Test data shape: (5000, 785)\n"
     ]
    }
   ],
   "source": [
    "print(f\"Train data shape: {train.shape}\")\n",
    "print(f\"Test data shape: {test.shape}\")"
   ]
  },
  {
   "cell_type": "markdown",
   "metadata": {
    "Collapsed": "false",
    "colab_type": "text",
    "id": "J06ErZoC6cAK"
   },
   "source": [
    "## 1-2. label 분포 확인하기"
   ]
  },
  {
   "cell_type": "code",
   "execution_count": 7,
   "metadata": {
    "Collapsed": "false",
    "colab": {
     "base_uri": "https://localhost:8080/",
     "height": 265
    },
    "colab_type": "code",
    "id": "KNyED8376cAK",
    "outputId": "602c73c6-f000-4846-b2dc-59697f3c25b2"
   },
   "outputs": [
    {
     "data": {
      "image/png": "[encoded data removed]",
      "text/plain": [
       "<Figure size 432x288 with 1 Axes>"
      ]
     },
     "metadata": {
      "needs_background": "light",
      "tags": []
     },
     "output_type": "display_data"
    }
   ],
   "source": [
    "# label 분포 확인\n",
    "label = train['label'].value_counts()\n",
    "sns.barplot(label.index, label)\n",
    "plt.show()"
   ]
  },
  {
   "cell_type": "markdown",
   "metadata": {
    "Collapsed": "false",
    "colab_type": "text",
    "id": "GO1ovlxI6cAP"
   },
   "source": [
    "## 1-3. 각 label 시각화 해보기"
   ]
  },
  {
   "cell_type": "code",
   "execution_count": 8,
   "metadata": {
    "Collapsed": "false",
    "colab": {
     "base_uri": "https://localhost:8080/",
     "height": 401
    },
    "colab_type": "code",
    "id": "2EnohyCv6cAP",
    "outputId": "4332a68e-8a68-4f2f-f218-8f80b09acac3"
   },
   "outputs": [
    {
     "data": {
      "image/png": "[encoded data removed]",
      "text/plain": [
       "<Figure size 1080x504 with 10 Axes>"
      ]
     },
     "metadata": {
      "needs_background": "light",
      "tags": []
     },
     "output_type": "display_data"
    }
   ],
   "source": [
    "plt.figure(figsize = (15, 7))\n",
    "for i in range(10):\n",
    "    plt.subplot(2, 5, i + 1)\n",
    "    number = train.iloc[i, 1:].values.reshape(28, 28)\n",
    "    plt.imshow(number, cmap='gray', interpolation='nearest')  "
   ]
  },
  {
   "cell_type": "markdown",
   "metadata": {
    "Collapsed": "false",
    "colab_type": "text",
    "id": "6SR9r09X6cAS"
   },
   "source": [
    "# 2. 데이터 전처리"
   ]
  },
  {
   "cell_type": "markdown",
   "metadata": {
    "Collapsed": "false",
    "colab_type": "text",
    "id": "4_3jHs7F6cAS"
   },
   "source": [
    "## 2-1. 픽셀 정규화"
   ]
  },
  {
   "cell_type": "code",
   "execution_count": 9,
   "metadata": {
    "Collapsed": "false",
    "colab": {},
    "colab_type": "code",
    "id": "wcQ8kIAS6cAT"
   },
   "outputs": [],
   "source": [
    "# 각 픽셀의 범위는 0~255 -> 0~1로 정규화\n",
    "# train\n",
    "X = train.iloc[:, 1:].values.astype('float32') / 255\n",
    "y = train['label']"
   ]
  },
  {
   "cell_type": "code",
   "execution_count": 10,
   "metadata": {
    "Collapsed": "false",
    "colab": {},
    "colab_type": "code",
    "id": "d50dZgSw6cAV"
   },
   "outputs": [],
   "source": [
    "# test\n",
    "x_test = test.iloc[:, 1:].values.astype('float32') / 255"
   ]
  },
  {
   "cell_type": "markdown",
   "metadata": {
    "Collapsed": "false",
    "colab_type": "text",
    "id": "8cIVAbSo6cAX"
   },
   "source": [
    "## 2-2. 이미지 처리를 위한 reshape"
   ]
  },
  {
   "cell_type": "code",
   "execution_count": 11,
   "metadata": {
    "Collapsed": "false",
    "colab": {},
    "colab_type": "code",
    "id": "tGHCN7_46cAY"
   },
   "outputs": [],
   "source": [
    "# 픽셀 데이터 reshape\n",
    "X = X.reshape(-1, 28, 28,1)\n",
    "x_test = x_test.reshape(-1, 28, 28, 1)"
   ]
  },
  {
   "cell_type": "code",
   "execution_count": 12,
   "metadata": {
    "Collapsed": "false",
    "colab": {
     "base_uri": "https://localhost:8080/",
     "height": 34
    },
    "colab_type": "code",
    "id": "IiWH9J-n6cAa",
    "outputId": "920fbd92-7fb1-4cc9-891c-58e61ff71f22"
   },
   "outputs": [
    {
     "data": {
      "text/plain": [
       "((60000, 28, 28, 1), (5000, 28, 28, 1))"
      ]
     },
     "execution_count": 12,
     "metadata": {
      "tags": []
     },
     "output_type": "execute_result"
    }
   ],
   "source": [
    "X.shape, x_test.shape"
   ]
  },
  {
   "cell_type": "code",
   "execution_count": 13,
   "metadata": {
    "Collapsed": "false",
    "colab": {
     "base_uri": "https://localhost:8080/",
     "height": 136
    },
    "colab_type": "code",
    "id": "Va71waNh6cAc",
    "outputId": "a321d299-a410-484f-8e44-36b7ddaf2700"
   },
   "outputs": [
    {
     "data": {
      "text/plain": [
       "array([[1, 0, 0, ..., 0, 0, 0],\n",
       "       [0, 1, 0, ..., 0, 0, 0],\n",
       "       [0, 0, 1, ..., 0, 0, 0],\n",
       "       ...,\n",
       "       [0, 0, 0, ..., 1, 0, 0],\n",
       "       [0, 0, 0, ..., 0, 1, 0],\n",
       "       [0, 0, 0, ..., 0, 0, 1]], dtype=uint8)"
      ]
     },
     "execution_count": 13,
     "metadata": {
      "tags": []
     },
     "output_type": "execute_result"
    }
   ],
   "source": [
    "# label 인코딩\n",
    "pd.get_dummies(y).values"
   ]
  },
  {
   "cell_type": "code",
   "execution_count": 14,
   "metadata": {
    "Collapsed": "false",
    "colab": {},
    "colab_type": "code",
    "id": "05apumZf6cAe"
   },
   "outputs": [],
   "source": [
    "from tensorflow.keras.utils import to_categorical\n",
    "y = to_categorical(y)"
   ]
  },
  {
   "cell_type": "markdown",
   "metadata": {
    "Collapsed": "false",
    "colab_type": "text",
    "id": "mpmMwNlh6cAg"
   },
   "source": [
    "## 2-3. 교차 검증을 위한 train-valid split"
   ]
  },
  {
   "cell_type": "code",
   "execution_count": 15,
   "metadata": {
    "Collapsed": "false",
    "colab": {},
    "colab_type": "code",
    "id": "Y-Nm2ebV6cAh"
   },
   "outputs": [],
   "source": [
    "from sklearn.model_selection import train_test_split\n",
    "x_train, x_val, y_train, y_val = train_test_split(X, y, test_size = 0.2, random_state=42)"
   ]
  },
  {
   "cell_type": "code",
   "execution_count": 16,
   "metadata": {
    "Collapsed": "false",
    "colab": {
     "base_uri": "https://localhost:8080/",
     "height": 34
    },
    "colab_type": "code",
    "id": "DwiXidq26cAj",
    "outputId": "67c57661-aa1c-4c9a-fa75-9ad9fc7faf60"
   },
   "outputs": [
    {
     "data": {
      "text/plain": [
       "((48000, 28, 28, 1), (12000, 28, 28, 1), (48000, 10), (12000, 10))"
      ]
     },
     "execution_count": 16,
     "metadata": {
      "tags": []
     },
     "output_type": "execute_result"
    }
   ],
   "source": [
    "x_train.shape, x_val.shape, y_train.shape, y_val.shape"
   ]
  },
  {
   "cell_type": "markdown",
   "metadata": {
    "Collapsed": "false",
    "colab_type": "text",
    "id": "OwUkfEHa6cAl"
   },
   "source": [
    "# 3. 모델링"
   ]
  },
  {
   "cell_type": "markdown",
   "metadata": {
    "Collapsed": "false",
    "colab_type": "text",
    "id": "kDnlE5Vu6cAl"
   },
   "source": [
    "## 3-1. Import Modules"
   ]
  },
  {
   "cell_type": "code",
   "execution_count": 17,
   "metadata": {
    "Collapsed": "false",
    "colab": {},
    "colab_type": "code",
    "id": "AuJsOBi66cAm"
   },
   "outputs": [],
   "source": [
    "import tensorflow as tf\n",
    "from tensorflow.keras import Sequential\n",
    "from tensorflow.keras.layers import Conv2D, Dropout, Dense, Flatten, BatchNormalization, MaxPooling2D, LeakyReLU, ReLU, PReLU\n",
    "from tensorflow.keras.optimizers import RMSprop, Nadam, Adadelta, Adam"
   ]
  },
  {
   "cell_type": "markdown",
   "metadata": {
    "Collapsed": "false",
    "colab_type": "text",
    "id": "1fFwOeWv6cAo"
   },
   "source": [
    "## 3-2. 딥러닝 기본(MLP)"
   ]
  },
  {
   "cell_type": "code",
   "execution_count": 18,
   "metadata": {
    "Collapsed": "false",
    "colab": {
     "base_uri": "https://localhost:8080/",
     "height": 289
    },
    "colab_type": "code",
    "id": "jS7f9TBT6cAo",
    "outputId": "488ceb5a-7c0e-448c-b8ab-8b9fce8bdbbd"
   },
   "outputs": [
    {
     "name": "stdout",
     "output_type": "stream",
     "text": [
      "Model: \"sequential\"\n",
      "_________________________________________________________________\n",
      "Layer (type)                 Output Shape              Param #   \n",
      "=================================================================\n",
      "flatten (Flatten)            (None, 784)               0         \n",
      "_________________________________________________________________\n",
      "dense (Dense)                (None, 300)               235500    \n",
      "_________________________________________________________________\n",
      "dense_1 (Dense)              (None, 100)               30100     \n",
      "_________________________________________________________________\n",
      "dense_2 (Dense)              (None, 10)                1010      \n",
      "=================================================================\n",
      "Total params: 266,610\n",
      "Trainable params: 266,610\n",
      "Non-trainable params: 0\n",
      "_________________________________________________________________\n"
     ]
    }
   ],
   "source": [
    "model = Sequential() # 모델 생성\n",
    "model.add(Flatten(input_shape=[28, 28])) # mlp 학습을 위해 1차원으로 flatten\n",
    "model.add(Dense(300, activation='relu')) # hidden layer 뉴런=300 \n",
    "model.add(Dense(100, activation='relu')) # 활성화함수 = relu\n",
    "model.add(Dense(10, activation='softmax')) # 10개의 클래스 출력값 => 다중분류 softmax\n",
    "model.summary()"
   ]
  },
  {
   "cell_type": "code",
   "execution_count": 19,
   "metadata": {
    "Collapsed": "false",
    "colab": {},
    "colab_type": "code",
    "id": "TOEVXYra6cAq"
   },
   "outputs": [],
   "source": [
    "model.compile(loss = 'categorical_crossentropy', # 손실함수\n",
    "             optimizer = 'adam', # 최적화\n",
    "             metrics = ['accuracy']) # 정확도"
   ]
  },
  {
   "cell_type": "code",
   "execution_count": 20,
   "metadata": {
    "Collapsed": "false",
    "colab": {
     "base_uri": "https://localhost:8080/",
     "height": 1000
    },
    "colab_type": "code",
    "id": "kD0_ngdT6cAs",
    "outputId": "bc9ff1ed-ccf1-451e-fd4f-b2e54a3a455a"
   },
   "outputs": [
    {
     "name": "stdout",
     "output_type": "stream",
     "text": [
      "Epoch 1/30\n",
      "1500/1500 [==============================] - 4s 3ms/step - loss: 0.1381 - accuracy: 0.9604 - val_loss: 0.0673 - val_accuracy: 0.9792\n",
      "Epoch 2/30\n",
      "1500/1500 [==============================] - 4s 3ms/step - loss: 0.0476 - accuracy: 0.9857 - val_loss: 0.0485 - val_accuracy: 0.9852\n",
      "Epoch 3/30\n",
      "1500/1500 [==============================] - 4s 2ms/step - loss: 0.0287 - accuracy: 0.9910 - val_loss: 0.0489 - val_accuracy: 0.9865\n",
      "Epoch 4/30\n",
      "1500/1500 [==============================] - 4s 3ms/step - loss: 0.0197 - accuracy: 0.9936 - val_loss: 0.0569 - val_accuracy: 0.9835\n",
      "Epoch 5/30\n",
      "1500/1500 [==============================] - 4s 2ms/step - loss: 0.0143 - accuracy: 0.9954 - val_loss: 0.0610 - val_accuracy: 0.9846\n",
      "Epoch 6/30\n",
      "1500/1500 [==============================] - 4s 2ms/step - loss: 0.0133 - accuracy: 0.9959 - val_loss: 0.0577 - val_accuracy: 0.9862\n",
      "Epoch 7/30\n",
      "1500/1500 [==============================] - 4s 2ms/step - loss: 0.0091 - accuracy: 0.9970 - val_loss: 0.0600 - val_accuracy: 0.9865\n",
      "Epoch 8/30\n",
      "1500/1500 [==============================] - 4s 2ms/step - loss: 0.0093 - accuracy: 0.9971 - val_loss: 0.0557 - val_accuracy: 0.9869\n",
      "Epoch 9/30\n",
      "1500/1500 [==============================] - 4s 2ms/step - loss: 0.0068 - accuracy: 0.9978 - val_loss: 0.0617 - val_accuracy: 0.9852\n",
      "Epoch 10/30\n",
      "1500/1500 [==============================] - 4s 3ms/step - loss: 0.0069 - accuracy: 0.9979 - val_loss: 0.0785 - val_accuracy: 0.9856\n",
      "Epoch 11/30\n",
      "1500/1500 [==============================] - 4s 3ms/step - loss: 0.0060 - accuracy: 0.9979 - val_loss: 0.0677 - val_accuracy: 0.9870\n",
      "Epoch 12/30\n",
      "1500/1500 [==============================] - 4s 2ms/step - loss: 0.0051 - accuracy: 0.9982 - val_loss: 0.0789 - val_accuracy: 0.9852\n",
      "Epoch 13/30\n",
      "1500/1500 [==============================] - 4s 3ms/step - loss: 0.0067 - accuracy: 0.9980 - val_loss: 0.0759 - val_accuracy: 0.9868\n",
      "Epoch 14/30\n",
      "1500/1500 [==============================] - 4s 3ms/step - loss: 0.0057 - accuracy: 0.9983 - val_loss: 0.0730 - val_accuracy: 0.9874\n",
      "Epoch 15/30\n",
      "1500/1500 [==============================] - 4s 3ms/step - loss: 0.0017 - accuracy: 0.9995 - val_loss: 0.0860 - val_accuracy: 0.9865\n",
      "Epoch 16/30\n",
      "1500/1500 [==============================] - 4s 3ms/step - loss: 0.0070 - accuracy: 0.9982 - val_loss: 0.0704 - val_accuracy: 0.9871\n",
      "Epoch 17/30\n",
      "1500/1500 [==============================] - 4s 2ms/step - loss: 0.0035 - accuracy: 0.9989 - val_loss: 0.0674 - val_accuracy: 0.9881\n",
      "Epoch 18/30\n",
      "1500/1500 [==============================] - 4s 2ms/step - loss: 0.0034 - accuracy: 0.9991 - val_loss: 0.0718 - val_accuracy: 0.9898\n",
      "Epoch 19/30\n",
      "1500/1500 [==============================] - 4s 2ms/step - loss: 0.0031 - accuracy: 0.9991 - val_loss: 0.0819 - val_accuracy: 0.9883\n",
      "Epoch 20/30\n",
      "1500/1500 [==============================] - 4s 2ms/step - loss: 0.0056 - accuracy: 0.9984 - val_loss: 0.0725 - val_accuracy: 0.9875\n",
      "Epoch 21/30\n",
      "1500/1500 [==============================] - 4s 2ms/step - loss: 0.0012 - accuracy: 0.9996 - val_loss: 0.0799 - val_accuracy: 0.9877\n",
      "Epoch 22/30\n",
      "1500/1500 [==============================] - 4s 2ms/step - loss: 0.0012 - accuracy: 0.9996 - val_loss: 0.1373 - val_accuracy: 0.9821\n",
      "Epoch 23/30\n",
      "1500/1500 [==============================] - 4s 2ms/step - loss: 0.0067 - accuracy: 0.9981 - val_loss: 0.0826 - val_accuracy: 0.9877\n",
      "Epoch 24/30\n",
      "1500/1500 [==============================] - 4s 2ms/step - loss: 0.0030 - accuracy: 0.9991 - val_loss: 0.0917 - val_accuracy: 0.9883\n",
      "Epoch 25/30\n",
      "1500/1500 [==============================] - 4s 3ms/step - loss: 0.0023 - accuracy: 0.9994 - val_loss: 0.0917 - val_accuracy: 0.9883\n",
      "Epoch 26/30\n",
      "1500/1500 [==============================] - 4s 3ms/step - loss: 0.0037 - accuracy: 0.9990 - val_loss: 0.0907 - val_accuracy: 0.9893\n",
      "Epoch 27/30\n",
      "1500/1500 [==============================] - 4s 3ms/step - loss: 0.0019 - accuracy: 0.9994 - val_loss: 0.0793 - val_accuracy: 0.9903\n",
      "Epoch 28/30\n",
      "1500/1500 [==============================] - 4s 2ms/step - loss: 0.0024 - accuracy: 0.9993 - val_loss: 0.0831 - val_accuracy: 0.9895\n",
      "Epoch 29/30\n",
      "1500/1500 [==============================] - 4s 2ms/step - loss: 0.0050 - accuracy: 0.9989 - val_loss: 0.0945 - val_accuracy: 0.9880\n",
      "Epoch 30/30\n",
      "1500/1500 [==============================] - 4s 2ms/step - loss: 0.0023 - accuracy: 0.9994 - val_loss: 0.0949 - val_accuracy: 0.9890\n"
     ]
    }
   ],
   "source": [
    "history = model.fit(x_train, y_train, epochs=30,\n",
    "                   validation_data = (x_val, y_val))"
   ]
  },
  {
   "cell_type": "code",
   "execution_count": 21,
   "metadata": {
    "Collapsed": "false",
    "colab": {
     "base_uri": "https://localhost:8080/",
     "height": 444
    },
    "colab_type": "code",
    "id": "L8FEUDW46cAu",
    "outputId": "846440da-2e93-4692-ce50-9087a4e7902c"
   },
   "outputs": [
    {
     "data": {
      "image/png": "[encoded data removed]",
      "text/plain": [
       "<Figure size 1080x504 with 2 Axes>"
      ]
     },
     "metadata": {
      "needs_background": "light",
      "tags": []
     },
     "output_type": "display_data"
    }
   ],
   "source": [
    "f, ax = plt.subplots(1,2, figsize = (15, 7))\n",
    "pd.DataFrame(history.history)[['accuracy', 'val_accuracy']].plot(ax = ax[0])\n",
    "ax[0].grid(True)\n",
    "ax[0].set_title('accuracy')\n",
    "\n",
    "pd.DataFrame(history.history)[['loss', 'val_loss']].plot(ax = ax[1])\n",
    "ax[1].grid(True)\n",
    "ax[1].set_title('loss')\n",
    "\n",
    "plt.show()"
   ]
  },
  {
   "cell_type": "markdown",
   "metadata": {
    "Collapsed": "false",
    "colab_type": "text",
    "id": "8KIavgCX6cAw"
   },
   "source": [
    "## 3-3. SOPCNN\n",
    "\n",
    "[Stochastic Optimization of Plain Convolutional Neural\n",
    "Networks with Simple methods (2020, Yahia Saeed Assiri)](https://arxiv.org/pdf/2001.08856v1.pdf)\n",
    "\n",
    "- MNIST 2020년 SOTA인 SOPCNN"
   ]
  },
  {
   "cell_type": "code",
   "execution_count": 22,
   "metadata": {
    "Collapsed": "false",
    "colab": {},
    "colab_type": "code",
    "id": "dLVvPWXq6cAw"
   },
   "outputs": [],
   "source": [
    "\n",
    "model = tf.keras.models.Sequential([\n",
    "    tf.keras.layers.Conv2D(64, (3,3), padding='same', input_shape=(28, 28, 1)),\n",
    "    tf.keras.layers.BatchNormalization(momentum=0.9, epsilon=1e-5, gamma_initializer=\"uniform\"),\n",
    "    tf.keras.layers.LeakyReLU(alpha=0.1),\n",
    "\n",
    "    tf.keras.layers.Conv2D(64,  (3,3), padding='same'),\n",
    "    tf.keras.layers.BatchNormalization(momentum=0.9, epsilon=1e-5, gamma_initializer=\"uniform\"),\n",
    "    tf.keras.layers.LeakyReLU(alpha=0.1),\n",
    "\n",
    "    tf.keras.layers.MaxPooling2D(2, 2),\n",
    "    \n",
    "    tf.keras.layers.Conv2D(128, (3,3), padding='same'),\n",
    "    tf.keras.layers.BatchNormalization(momentum=0.9, epsilon=1e-5, gamma_initializer=\"uniform\"),\n",
    "    tf.keras.layers.LeakyReLU(alpha=0.1),\n",
    "\n",
    "    tf.keras.layers.Conv2D(128, (3,3), padding='same'),\n",
    "    tf.keras.layers.BatchNormalization(momentum=0.9, epsilon=1e-5, gamma_initializer=\"uniform\"),\n",
    "    tf.keras.layers.LeakyReLU(alpha=0.1),\n",
    "    \n",
    "    tf.keras.layers.MaxPooling2D(2,2),\n",
    "    \n",
    "    tf.keras.layers.Flatten(),\n",
    "    tf.keras.layers.Dense(2048),\n",
    "    tf.keras.layers.LeakyReLU(alpha=0.1),\n",
    "    tf.keras.layers.Dense(2048),\n",
    "    tf.keras.layers.LeakyReLU(alpha=0.1),\n",
    "    tf.keras.layers.Dropout(0.8),\n",
    "    tf.keras.layers.Dense(10, activation='softmax')\n",
    "])"
   ]
  },
  {
   "cell_type": "code",
   "execution_count": 23,
   "metadata": {
    "Collapsed": "false",
    "colab": {
     "base_uri": "https://localhost:8080/",
     "height": 867
    },
    "colab_type": "code",
    "id": "uo5uJu1y6cAy",
    "outputId": "0223077f-3bf2-48b5-e715-f1bf148b84df"
   },
   "outputs": [
    {
     "name": "stdout",
     "output_type": "stream",
     "text": [
      "Model: \"sequential_1\"\n",
      "_________________________________________________________________\n",
      "Layer (type)                 Output Shape              Param #   \n",
      "=================================================================\n",
      "conv2d (Conv2D)              (None, 28, 28, 64)        640       \n",
      "_________________________________________________________________\n",
      "batch_normalization (BatchNo (None, 28, 28, 64)        256       \n",
      "_________________________________________________________________\n",
      "leaky_re_lu (LeakyReLU)      (None, 28, 28, 64)        0         \n",
      "_________________________________________________________________\n",
      "conv2d_1 (Conv2D)            (None, 28, 28, 64)        36928     \n",
      "_________________________________________________________________\n",
      "batch_normalization_1 (Batch (None, 28, 28, 64)        256       \n",
      "_________________________________________________________________\n",
      "leaky_re_lu_1 (LeakyReLU)    (None, 28, 28, 64)        0         \n",
      "_________________________________________________________________\n",
      "max_pooling2d (MaxPooling2D) (None, 14, 14, 64)        0         \n",
      "_________________________________________________________________\n",
      "conv2d_2 (Conv2D)            (None, 14, 14, 128)       73856     \n",
      "_________________________________________________________________\n",
      "batch_normalization_2 (Batch (None, 14, 14, 128)       512       \n",
      "_________________________________________________________________\n",
      "leaky_re_lu_2 (LeakyReLU)    (None, 14, 14, 128)       0         \n",
      "_________________________________________________________________\n",
      "conv2d_3 (Conv2D)            (None, 14, 14, 128)       147584    \n",
      "_________________________________________________________________\n",
      "batch_normalization_3 (Batch (None, 14, 14, 128)       512       \n",
      "_________________________________________________________________\n",
      "leaky_re_lu_3 (LeakyReLU)    (None, 14, 14, 128)       0         \n",
      "_________________________________________________________________\n",
      "max_pooling2d_1 (MaxPooling2 (None, 7, 7, 128)         0         \n",
      "_________________________________________________________________\n",
      "flatten_1 (Flatten)          (None, 6272)              0         \n",
      "_________________________________________________________________\n",
      "dense_3 (Dense)              (None, 2048)              12847104  \n",
      "_________________________________________________________________\n",
      "leaky_re_lu_4 (LeakyReLU)    (None, 2048)              0         \n",
      "_________________________________________________________________\n",
      "dense_4 (Dense)              (None, 2048)              4196352   \n",
      "_________________________________________________________________\n",
      "leaky_re_lu_5 (LeakyReLU)    (None, 2048)              0         \n",
      "_________________________________________________________________\n",
      "dropout (Dropout)            (None, 2048)              0         \n",
      "_________________________________________________________________\n",
      "dense_5 (Dense)              (None, 10)                20490     \n",
      "=================================================================\n",
      "Total params: 17,324,490\n",
      "Trainable params: 17,323,722\n",
      "Non-trainable params: 768\n",
      "_________________________________________________________________\n"
     ]
    }
   ],
   "source": [
    "model.summary()"
   ]
  },
  {
   "cell_type": "code",
   "execution_count": 24,
   "metadata": {
    "Collapsed": "false",
    "colab": {},
    "colab_type": "code",
    "id": "IERSETFF6cA0"
   },
   "outputs": [],
   "source": [
    "optimizer = Adam(learning_rate=0.01) # 논문 설정대로 0.01을 주었다.\n",
    "\n",
    "model.compile(loss = 'categorical_crossentropy',\n",
    "              optimizer = optimizer,\n",
    "              metrics = ['accuracy'])"
   ]
  },
  {
   "cell_type": "code",
   "execution_count": 25,
   "metadata": {
    "Collapsed": "false",
    "colab": {
     "base_uri": "https://localhost:8080/",
     "height": 1000
    },
    "colab_type": "code",
    "id": "KCVEsSF_6cA1",
    "outputId": "e8113ac7-1ff8-4dd0-d7b2-464fa1230265"
   },
   "outputs": [
    {
     "name": "stdout",
     "output_type": "stream",
     "text": [
      "Epoch 1/30\n",
      "1500/1500 [==============================] - 17s 12ms/step - loss: 29.9529 - accuracy: 0.8936 - val_loss: 6.3020 - val_accuracy: 0.9740\n",
      "Epoch 2/30\n",
      "1500/1500 [==============================] - 17s 12ms/step - loss: 462.1909 - accuracy: 0.9565 - val_loss: 46.1067 - val_accuracy: 0.9887\n",
      "Epoch 3/30\n",
      "1500/1500 [==============================] - 17s 12ms/step - loss: 58.7553 - accuracy: 0.9805 - val_loss: 19.1989 - val_accuracy: 0.9918\n",
      "Epoch 4/30\n",
      "1500/1500 [==============================] - 17s 12ms/step - loss: 206.0641 - accuracy: 0.9763 - val_loss: 195.3885 - val_accuracy: 0.9843\n",
      "Epoch 5/30\n",
      "1500/1500 [==============================] - 17s 12ms/step - loss: 159.7476 - accuracy: 0.9815 - val_loss: 216.0838 - val_accuracy: 0.9891\n",
      "Epoch 6/30\n",
      "1500/1500 [==============================] - 17s 12ms/step - loss: 275.3051 - accuracy: 0.9813 - val_loss: 138.2755 - val_accuracy: 0.9908\n",
      "Epoch 7/30\n",
      "1500/1500 [==============================] - 17s 12ms/step - loss: 314.1844 - accuracy: 0.9840 - val_loss: 377.1892 - val_accuracy: 0.9877\n",
      "Epoch 8/30\n",
      "1500/1500 [==============================] - 18s 12ms/step - loss: 279.6974 - accuracy: 0.9865 - val_loss: 119.2442 - val_accuracy: 0.9898\n",
      "Epoch 9/30\n",
      "1500/1500 [==============================] - 17s 12ms/step - loss: 351.1470 - accuracy: 0.9859 - val_loss: 367.8646 - val_accuracy: 0.9913\n",
      "Epoch 10/30\n",
      "1500/1500 [==============================] - 17s 12ms/step - loss: 395.9283 - accuracy: 0.9881 - val_loss: 477.8692 - val_accuracy: 0.9925\n",
      "Epoch 11/30\n",
      "1500/1500 [==============================] - 17s 12ms/step - loss: 461.2513 - accuracy: 0.9886 - val_loss: 446.1848 - val_accuracy: 0.9926\n",
      "Epoch 12/30\n",
      "1500/1500 [==============================] - 17s 12ms/step - loss: 311.2162 - accuracy: 0.9914 - val_loss: 329.0481 - val_accuracy: 0.9933\n",
      "Epoch 13/30\n",
      "1500/1500 [==============================] - 17s 12ms/step - loss: 399.0448 - accuracy: 0.9903 - val_loss: 580.8613 - val_accuracy: 0.9912\n",
      "Epoch 14/30\n",
      "1500/1500 [==============================] - 17s 12ms/step - loss: 582.3574 - accuracy: 0.9899 - val_loss: 1036.4185 - val_accuracy: 0.9892\n",
      "Epoch 15/30\n",
      "1500/1500 [==============================] - 18s 12ms/step - loss: 497.8658 - accuracy: 0.9927 - val_loss: 493.7676 - val_accuracy: 0.9937\n",
      "Epoch 16/30\n",
      "1500/1500 [==============================] - 17s 12ms/step - loss: 367.0460 - accuracy: 0.9931 - val_loss: 1012.5403 - val_accuracy: 0.9929\n",
      "Epoch 17/30\n",
      "1500/1500 [==============================] - 17s 12ms/step - loss: 474.1782 - accuracy: 0.9922 - val_loss: 752.8223 - val_accuracy: 0.9936\n",
      "Epoch 18/30\n",
      "1500/1500 [==============================] - 17s 12ms/step - loss: 787.5028 - accuracy: 0.9921 - val_loss: 599.1225 - val_accuracy: 0.9933\n",
      "Epoch 19/30\n",
      "1500/1500 [==============================] - 17s 12ms/step - loss: 473.4527 - accuracy: 0.9939 - val_loss: 1194.4612 - val_accuracy: 0.9923\n",
      "Epoch 20/30\n",
      "1500/1500 [==============================] - 17s 12ms/step - loss: 756.1606 - accuracy: 0.9930 - val_loss: 858.8056 - val_accuracy: 0.9933\n",
      "Epoch 21/30\n",
      "1500/1500 [==============================] - 17s 12ms/step - loss: 487.3423 - accuracy: 0.9948 - val_loss: 924.2416 - val_accuracy: 0.9927\n",
      "Epoch 22/30\n",
      "1500/1500 [==============================] - 17s 12ms/step - loss: 870.9600 - accuracy: 0.9928 - val_loss: 1919.5762 - val_accuracy: 0.9941\n",
      "Epoch 23/30\n",
      "1500/1500 [==============================] - 17s 12ms/step - loss: 832.9814 - accuracy: 0.9942 - val_loss: 1810.1238 - val_accuracy: 0.9915\n",
      "Epoch 24/30\n",
      "1500/1500 [==============================] - 17s 12ms/step - loss: 777.8047 - accuracy: 0.9944 - val_loss: 4042.2520 - val_accuracy: 0.9916\n",
      "Epoch 25/30\n",
      "1500/1500 [==============================] - 17s 12ms/step - loss: 748.5245 - accuracy: 0.9949 - val_loss: 1360.2095 - val_accuracy: 0.9943\n",
      "Epoch 26/30\n",
      "1500/1500 [==============================] - 18s 12ms/step - loss: 740.4565 - accuracy: 0.9952 - val_loss: 2127.4033 - val_accuracy: 0.9945\n",
      "Epoch 27/30\n",
      "1500/1500 [==============================] - 17s 12ms/step - loss: 820.3009 - accuracy: 0.9955 - val_loss: 1142.2053 - val_accuracy: 0.9945\n",
      "Epoch 28/30\n",
      "1500/1500 [==============================] - 17s 12ms/step - loss: 836.9897 - accuracy: 0.9954 - val_loss: 2351.9045 - val_accuracy: 0.9932\n",
      "Epoch 29/30\n",
      "1500/1500 [==============================] - 17s 12ms/step - loss: 808.8177 - accuracy: 0.9959 - val_loss: 1334.8346 - val_accuracy: 0.9941\n",
      "Epoch 30/30\n",
      "1500/1500 [==============================] - 17s 12ms/step - loss: 1114.1694 - accuracy: 0.9948 - val_loss: 2408.3403 - val_accuracy: 0.9938\n"
     ]
    }
   ],
   "source": [
    "history = model.fit(x_train, y_train, epochs=30,\n",
    "                   validation_data = (x_val, y_val))"
   ]
  },
  {
   "cell_type": "code",
   "execution_count": 26,
   "metadata": {
    "Collapsed": "false",
    "colab": {
     "base_uri": "https://localhost:8080/",
     "height": 444
    },
    "colab_type": "code",
    "id": "EAlpeWq66cA3",
    "outputId": "b9a2fc6c-072b-43c7-bee1-38717af50804"
   },
   "outputs": [
    {
     "data": {
      "image/png": "[encoded data removed]",
      "text/plain": [
       "<Figure size 1080x504 with 2 Axes>"
      ]
     },
     "metadata": {
      "needs_background": "light",
      "tags": []
     },
     "output_type": "display_data"
    }
   ],
   "source": [
    "f, ax = plt.subplots(1,2, figsize = (15, 7))\n",
    "pd.DataFrame(history.history)[['accuracy', 'val_accuracy']].plot(ax = ax[0])\n",
    "ax[0].grid(True)\n",
    "ax[0].set_title('accuracy')\n",
    "\n",
    "pd.DataFrame(history.history)[['loss', 'val_loss']].plot(ax = ax[1])\n",
    "ax[1].grid(True)\n",
    "ax[1].set_title('loss')\n",
    "\n",
    "plt.show()"
   ]
  },
  {
   "cell_type": "markdown",
   "metadata": {
    "Collapsed": "false",
    "colab_type": "text",
    "id": "WjlxewCq6cA5"
   },
   "source": [
    "## 3-4. Data Augmentation + SOPCNN"
   ]
  },
  {
   "cell_type": "code",
   "execution_count": 27,
   "metadata": {
    "Collapsed": "false",
    "colab": {},
    "colab_type": "code",
    "id": "VK21qQQ96cA6"
   },
   "outputs": [],
   "source": [
    "from tensorflow.keras.preprocessing.image import ImageDataGenerator"
   ]
  },
  {
   "cell_type": "code",
   "execution_count": 28,
   "metadata": {
    "Collapsed": "false",
    "colab": {},
    "colab_type": "code",
    "id": "-z3vHkxg6cA7"
   },
   "outputs": [],
   "source": [
    "datagen_train = ImageDataGenerator(rotation_range = 15, # 돌리는 각도 \n",
    "                             width_shift_range = 0.15, # 0.15 우로 이동, 1 이상이면 픽셀 수로 변환\n",
    "                             height_shift_range = 0.15, # 0.15 위로 이동, 1 이상이면 픽셀 수로 변환\n",
    "                             shear_range = 0.15, # 휘어짐 정도\n",
    "                             zoom_range = 0.4,) # 확대 정도\n",
    "\n",
    "datagen_train.fit(x_train)"
   ]
  },
  {
   "cell_type": "code",
   "execution_count": 29,
   "metadata": {
    "Collapsed": "false",
    "colab": {
     "base_uri": "https://localhost:8080/",
     "height": 401
    },
    "colab_type": "code",
    "id": "FU5dhvn56cA9",
    "outputId": "5d583241-9ebf-4080-df3b-4b89a8e2f4c8"
   },
   "outputs": [
    {
     "data": {
      "image/png": "[encoded data removed]",
      "text/plain": [
       "<Figure size 1080x504 with 10 Axes>"
      ]
     },
     "metadata": {
      "needs_background": "light",
      "tags": []
     },
     "output_type": "display_data"
    }
   ],
   "source": [
    "plt.figure(figsize = (15, 7))\n",
    "\n",
    "for x_batch, y_batch in datagen_train.flow(x_train, y_train, batch_size=10):\n",
    "    for i in range(0, 10):\n",
    "        plt.subplot(2, 5, i + 1)\n",
    "        plt.imshow(x_batch[i].reshape(28, 28), cmap=plt.get_cmap('gray'))\n",
    "    plt.show()\n",
    "    break"
   ]
  },
  {
   "cell_type": "code",
   "execution_count": 30,
   "metadata": {
    "Collapsed": "false",
    "colab": {},
    "colab_type": "code",
    "id": "pAyTe3re6cA_"
   },
   "outputs": [],
   "source": [
    "from tensorflow.keras.callbacks import ReduceLROnPlateau, EarlyStopping\n",
    "datagen_val = ImageDataGenerator()\n",
    "\n",
    "learning_rate_reduction = tf.keras.callbacks.ReduceLROnPlateau( \n",
    "    monitor='loss',    \n",
    "    # Quantity to be monitored.\n",
    "    factor=0.25,       \n",
    "    # Factor by which the learning rate will be reduced. new_lr = lr * factor\n",
    "    patience=2,        \n",
    "    # The number of epochs with no improvement after which learning rate will be reduced.\n",
    "    verbose=1,         \n",
    "    # 0: quiet - 1: update messages.\n",
    "    mode=\"auto\",       \n",
    "    # {auto, min, max}. In min mode, lr will be reduced when the quantity monitored has stopped decreasing; \n",
    "    # in the max mode it will be reduced when the quantity monitored has stopped increasing; \n",
    "    # in auto mode, the direction is automatically inferred from the name of the monitored quantity.\n",
    "    min_delta=0.0001,  \n",
    "    # threshold for measuring the new optimum, to only focus on significant changes.\n",
    "    cooldown=0,        \n",
    "    # number of epochs to wait before resuming normal operation after learning rate (lr) has been reduced.\n",
    "    min_lr=0.00001     \n",
    "    # lower bound on the learning rate.\n",
    "    )\n",
    "\n",
    "es = EarlyStopping(monitor='val_loss', mode='min', verbose=1, patience=30, restore_best_weights=True)"
   ]
  },
  {
   "cell_type": "code",
   "execution_count": 31,
   "metadata": {
    "Collapsed": "false",
    "colab": {},
    "colab_type": "code",
    "id": "E-7k6IEt6cBB"
   },
   "outputs": [],
   "source": [
    "optimizer = Adam(learning_rate=0.01)\n",
    "\n",
    "model.compile(loss = 'categorical_crossentropy',\n",
    "              optimizer = optimizer,\n",
    "              metrics = ['accuracy'])"
   ]
  },
  {
   "cell_type": "code",
   "execution_count": 32,
   "metadata": {
    "Collapsed": "false",
    "colab": {
     "base_uri": "https://localhost:8080/",
     "height": 1000
    },
    "colab_type": "code",
    "id": "fujVaU066cBC",
    "outputId": "d179a108-0bf2-4094-bf57-43721792099f"
   },
   "outputs": [
    {
     "name": "stdout",
     "output_type": "stream",
     "text": [
      "Epoch 1/50\n",
      "1200/1200 - 19s - loss: 12483.4082 - accuracy: 0.7789 - val_loss: 207.9785 - val_accuracy: 0.9886\n",
      "Epoch 2/50\n",
      "1200/1200 - 19s - loss: 2085.3064 - accuracy: 0.8735 - val_loss: 148.6059 - val_accuracy: 0.9920\n",
      "Epoch 3/50\n",
      "1200/1200 - 19s - loss: 1417.6788 - accuracy: 0.9006 - val_loss: 119.5812 - val_accuracy: 0.9906\n",
      "Epoch 4/50\n",
      "1200/1200 - 19s - loss: 1120.6587 - accuracy: 0.9176 - val_loss: 110.5084 - val_accuracy: 0.9931\n",
      "Epoch 5/50\n",
      "1200/1200 - 19s - loss: 866.3029 - accuracy: 0.9284 - val_loss: 173.0976 - val_accuracy: 0.9847\n",
      "Epoch 6/50\n",
      "1200/1200 - 20s - loss: 745.1472 - accuracy: 0.9335 - val_loss: 176.9819 - val_accuracy: 0.9841\n",
      "Epoch 7/50\n",
      "1200/1200 - 19s - loss: 713.8901 - accuracy: 0.9361 - val_loss: 80.4617 - val_accuracy: 0.9918\n",
      "Epoch 8/50\n",
      "1200/1200 - 19s - loss: 603.6149 - accuracy: 0.9418 - val_loss: 69.0710 - val_accuracy: 0.9934\n",
      "Epoch 9/50\n",
      "1200/1200 - 19s - loss: 630.6606 - accuracy: 0.9404 - val_loss: 82.5687 - val_accuracy: 0.9942\n",
      "Epoch 10/50\n",
      "1200/1200 - 19s - loss: 478.8858 - accuracy: 0.9469 - val_loss: 91.1834 - val_accuracy: 0.9922\n",
      "Epoch 11/50\n",
      "1200/1200 - 19s - loss: 491.9276 - accuracy: 0.9488 - val_loss: 133.9903 - val_accuracy: 0.9933\n",
      "Epoch 12/50\n",
      "\n",
      "Epoch 00012: ReduceLROnPlateau reducing learning rate to 0.0024999999441206455.\n",
      "1200/1200 - 19s - loss: 601.1088 - accuracy: 0.9476 - val_loss: 91.7600 - val_accuracy: 0.9934\n",
      "Epoch 13/50\n",
      "1200/1200 - 19s - loss: 228.1394 - accuracy: 0.9681 - val_loss: 37.6363 - val_accuracy: 0.9940\n",
      "Epoch 14/50\n",
      "1200/1200 - 19s - loss: 157.3646 - accuracy: 0.9691 - val_loss: 34.8602 - val_accuracy: 0.9939\n",
      "Epoch 15/50\n",
      "1200/1200 - 19s - loss: 127.5019 - accuracy: 0.9699 - val_loss: 34.5150 - val_accuracy: 0.9930\n",
      "Epoch 16/50\n",
      "1200/1200 - 20s - loss: 101.8974 - accuracy: 0.9722 - val_loss: 33.6543 - val_accuracy: 0.9933\n",
      "Epoch 17/50\n",
      "1200/1200 - 20s - loss: 98.6217 - accuracy: 0.9697 - val_loss: 28.0763 - val_accuracy: 0.9937\n",
      "Epoch 18/50\n",
      "1200/1200 - 19s - loss: 84.2007 - accuracy: 0.9698 - val_loss: 16.4965 - val_accuracy: 0.9942\n",
      "Epoch 19/50\n",
      "1200/1200 - 19s - loss: 81.5066 - accuracy: 0.9689 - val_loss: 29.0350 - val_accuracy: 0.9945\n",
      "Epoch 20/50\n",
      "1200/1200 - 19s - loss: 68.4194 - accuracy: 0.9710 - val_loss: 20.6666 - val_accuracy: 0.9939\n",
      "Epoch 21/50\n",
      "1200/1200 - 19s - loss: 59.8691 - accuracy: 0.9713 - val_loss: 14.4845 - val_accuracy: 0.9936\n",
      "Epoch 22/50\n",
      "1200/1200 - 19s - loss: 55.0304 - accuracy: 0.9705 - val_loss: 13.8239 - val_accuracy: 0.9929\n",
      "Epoch 23/50\n",
      "1200/1200 - 19s - loss: 50.8256 - accuracy: 0.9715 - val_loss: 13.5808 - val_accuracy: 0.9925\n",
      "Epoch 24/50\n",
      "1200/1200 - 19s - loss: 49.9409 - accuracy: 0.9693 - val_loss: 9.4763 - val_accuracy: 0.9930\n",
      "Epoch 25/50\n",
      "1200/1200 - 19s - loss: 48.7378 - accuracy: 0.9708 - val_loss: 10.0495 - val_accuracy: 0.9924\n",
      "Epoch 26/50\n",
      "1200/1200 - 19s - loss: 41.8702 - accuracy: 0.9719 - val_loss: 9.7362 - val_accuracy: 0.9953\n",
      "Epoch 27/50\n",
      "1200/1200 - 19s - loss: 43.2568 - accuracy: 0.9714 - val_loss: 8.1335 - val_accuracy: 0.9942\n",
      "Epoch 28/50\n",
      "1200/1200 - 19s - loss: 41.6411 - accuracy: 0.9707 - val_loss: 17.6976 - val_accuracy: 0.9942\n",
      "Epoch 29/50\n",
      "1200/1200 - 20s - loss: 39.6919 - accuracy: 0.9714 - val_loss: 8.0201 - val_accuracy: 0.9957\n",
      "Epoch 30/50\n",
      "1200/1200 - 19s - loss: 35.6791 - accuracy: 0.9723 - val_loss: 9.4731 - val_accuracy: 0.9946\n",
      "Epoch 31/50\n",
      "1200/1200 - 19s - loss: 35.7555 - accuracy: 0.9722 - val_loss: 8.7815 - val_accuracy: 0.9942\n",
      "Epoch 32/50\n",
      "\n",
      "Epoch 00032: ReduceLROnPlateau reducing learning rate to 0.0006249999860301614.\n",
      "1200/1200 - 19s - loss: 35.8662 - accuracy: 0.9723 - val_loss: 7.4014 - val_accuracy: 0.9943\n",
      "Epoch 33/50\n",
      "1200/1200 - 19s - loss: 22.9655 - accuracy: 0.9776 - val_loss: 5.1950 - val_accuracy: 0.9950\n",
      "Epoch 34/50\n",
      "1200/1200 - 19s - loss: 18.5113 - accuracy: 0.9771 - val_loss: 5.6522 - val_accuracy: 0.9948\n",
      "Epoch 35/50\n",
      "1200/1200 - 19s - loss: 16.3054 - accuracy: 0.9778 - val_loss: 5.4811 - val_accuracy: 0.9951\n",
      "Epoch 36/50\n",
      "1200/1200 - 19s - loss: 14.7745 - accuracy: 0.9788 - val_loss: 4.8025 - val_accuracy: 0.9948\n",
      "Epoch 37/50\n",
      "1200/1200 - 19s - loss: 14.4456 - accuracy: 0.9776 - val_loss: 4.5886 - val_accuracy: 0.9949\n",
      "Epoch 38/50\n",
      "1200/1200 - 19s - loss: 12.9836 - accuracy: 0.9780 - val_loss: 5.4655 - val_accuracy: 0.9939\n",
      "Epoch 39/50\n",
      "1200/1200 - 19s - loss: 11.5518 - accuracy: 0.9789 - val_loss: 4.2186 - val_accuracy: 0.9948\n",
      "Epoch 40/50\n",
      "1200/1200 - 19s - loss: 10.4355 - accuracy: 0.9793 - val_loss: 3.7729 - val_accuracy: 0.9950\n",
      "Epoch 41/50\n",
      "1200/1200 - 19s - loss: 10.4423 - accuracy: 0.9787 - val_loss: 3.4729 - val_accuracy: 0.9945\n",
      "Epoch 42/50\n",
      "1200/1200 - 19s - loss: 10.3236 - accuracy: 0.9773 - val_loss: 2.8446 - val_accuracy: 0.9950\n",
      "Epoch 43/50\n",
      "1200/1200 - 19s - loss: 10.0443 - accuracy: 0.9768 - val_loss: 3.2040 - val_accuracy: 0.9947\n",
      "Epoch 44/50\n",
      "1200/1200 - 19s - loss: 8.5691 - accuracy: 0.9788 - val_loss: 2.7508 - val_accuracy: 0.9948\n",
      "Epoch 45/50\n",
      "1200/1200 - 19s - loss: 8.7587 - accuracy: 0.9775 - val_loss: 2.7867 - val_accuracy: 0.9946\n",
      "Epoch 46/50\n",
      "1200/1200 - 19s - loss: 8.4171 - accuracy: 0.9771 - val_loss: 2.8764 - val_accuracy: 0.9950\n",
      "Epoch 47/50\n",
      "1200/1200 - 19s - loss: 8.5115 - accuracy: 0.9774 - val_loss: 3.2468 - val_accuracy: 0.9937\n",
      "Epoch 48/50\n",
      "1200/1200 - 19s - loss: 7.1767 - accuracy: 0.9789 - val_loss: 2.5187 - val_accuracy: 0.9949\n",
      "Epoch 49/50\n",
      "1200/1200 - 19s - loss: 7.8450 - accuracy: 0.9779 - val_loss: 2.2351 - val_accuracy: 0.9949\n",
      "Epoch 50/50\n",
      "1200/1200 - 19s - loss: 6.9473 - accuracy: 0.9782 - val_loss: 3.0346 - val_accuracy: 0.9943\n"
     ]
    }
   ],
   "source": [
    "batch_size = 40\n",
    "step_train = x_train.shape[0] // batch_size\n",
    "step_val = x_val.shape[0] // batch_size\n",
    "\n",
    "history = model.fit(datagen_train.flow(x_train, y_train, batch_size = batch_size),\n",
    "                              steps_per_epoch = step_train,\n",
    "                              epochs = 50,\n",
    "                              validation_data = (x_val, y_val),\n",
    "                              callbacks = [learning_rate_reduction, es],\n",
    "                              verbose = 2)"
   ]
  },
  {
   "cell_type": "code",
   "execution_count": 33,
   "metadata": {
    "Collapsed": "false",
    "colab": {
     "base_uri": "https://localhost:8080/",
     "height": 444
    },
    "colab_type": "code",
    "id": "QzZ9Jll96cBE",
    "outputId": "da3687d7-964b-4c76-c5d4-290b44290900"
   },
   "outputs": [
    {
     "data": {
      "image/png": "[encoded data removed]",
      "text/plain": [
       "<Figure size 1080x504 with 2 Axes>"
      ]
     },
     "metadata": {
      "needs_background": "light",
      "tags": []
     },
     "output_type": "display_data"
    }
   ],
   "source": [
    "f, ax = plt.subplots(1,2, figsize = (15, 7))\n",
    "pd.DataFrame(history.history)[['accuracy', 'val_accuracy']].plot(ax = ax[0])\n",
    "ax[0].grid(True)\n",
    "ax[0].set_title('accuracy')\n",
    "\n",
    "pd.DataFrame(history.history)[['loss', 'val_loss']].plot(ax = ax[1])\n",
    "ax[1].grid(True)\n",
    "ax[1].set_title('loss')\n",
    "\n",
    "plt.show()"
   ]
  },
  {
   "cell_type": "markdown",
   "metadata": {
    "Collapsed": "false",
    "colab_type": "text",
    "id": "VGzu036g6cBF"
   },
   "source": [
    "### 3-5. Data Augmentation + VGG19"
   ]
  },
  {
   "cell_type": "code",
   "execution_count": 34,
   "metadata": {
    "Collapsed": "false",
    "colab": {},
    "colab_type": "code",
    "id": "9BVQ9Jk_6cBG"
   },
   "outputs": [],
   "source": [
    "model = tf.keras.models.Sequential([\n",
    "    tf.keras.layers.Conv2D(64, (3,3), padding='same', input_shape=(28, 28, 1)),\n",
    "    tf.keras.layers.BatchNormalization(momentum=0.9, epsilon=1e-5, gamma_initializer=\"uniform\"),\n",
    "    tf.keras.layers.LeakyReLU(alpha=0.1),\n",
    "    tf.keras.layers.Conv2D(64,  (3,3), padding='same'),\n",
    "    tf.keras.layers.BatchNormalization(momentum=0.9, epsilon=1e-5, gamma_initializer=\"uniform\"),\n",
    "    tf.keras.layers.LeakyReLU(alpha=0.1),\n",
    "    tf.keras.layers.Conv2D(64,  (3,3), padding='same'),\n",
    "    tf.keras.layers.BatchNormalization(momentum=0.9, epsilon=1e-5, gamma_initializer=\"uniform\"),\n",
    "    tf.keras.layers.LeakyReLU(alpha=0.1),\n",
    "\n",
    "    tf.keras.layers.MaxPooling2D(2, 2),\n",
    "    tf.keras.layers.Dropout(0.25),\n",
    "    \n",
    "    tf.keras.layers.Conv2D(128, (3,3), padding='same'),\n",
    "    tf.keras.layers.BatchNormalization(momentum=0.9, epsilon=1e-5, gamma_initializer=\"uniform\"),\n",
    "    tf.keras.layers.LeakyReLU(alpha=0.1),\n",
    "    tf.keras.layers.Conv2D(128, (3,3), padding='same'),\n",
    "    tf.keras.layers.BatchNormalization(momentum=0.9, epsilon=1e-5, gamma_initializer=\"uniform\"),\n",
    "    tf.keras.layers.LeakyReLU(alpha=0.1),\n",
    "    tf.keras.layers.Conv2D(128, (3,3), padding='same'),\n",
    "    tf.keras.layers.BatchNormalization(momentum=0.9, epsilon=1e-5, gamma_initializer=\"uniform\"),\n",
    "    tf.keras.layers.LeakyReLU(alpha=0.1),\n",
    "    \n",
    "    tf.keras.layers.MaxPooling2D(2,2),\n",
    "    tf.keras.layers.Dropout(0.25),    \n",
    "    \n",
    "    tf.keras.layers.Conv2D(256, (3,3), padding='same'),\n",
    "    tf.keras.layers.BatchNormalization(momentum=0.9, epsilon=1e-5, gamma_initializer=\"uniform\"),\n",
    "    tf.keras.layers.LeakyReLU(alpha=0.1),\n",
    "    tf.keras.layers.Conv2D(256, (3,3), padding='same'),\n",
    "    tf.keras.layers.BatchNormalization(momentum=0.9, epsilon=1e-5, gamma_initializer=\"uniform\"),##\n",
    "    tf.keras.layers.LeakyReLU(alpha=0.1),\n",
    "\n",
    "    tf.keras.layers.MaxPooling2D(2,2),\n",
    "    tf.keras.layers.Dropout(0.25),\n",
    "    \n",
    "    tf.keras.layers.Flatten(),\n",
    "    tf.keras.layers.Dense(256),\n",
    "    tf.keras.layers.LeakyReLU(alpha=0.1),\n",
    " \n",
    "    tf.keras.layers.BatchNormalization(),\n",
    "    tf.keras.layers.Dense(10, activation='softmax')\n",
    "])"
   ]
  },
  {
   "cell_type": "code",
   "execution_count": 35,
   "metadata": {
    "Collapsed": "false",
    "colab": {},
    "colab_type": "code",
    "id": "TzUuw4oO6cBI"
   },
   "outputs": [],
   "source": [
    "optimizer = Adam(learning_rate=0.01)\n",
    "\n",
    "model.compile(loss = 'categorical_crossentropy',\n",
    "              optimizer = optimizer,\n",
    "              metrics = ['accuracy'])"
   ]
  },
  {
   "cell_type": "code",
   "execution_count": 36,
   "metadata": {
    "Collapsed": "false",
    "colab": {},
    "colab_type": "code",
    "id": "hLvHXDrm6cBK"
   },
   "outputs": [],
   "source": [
    "datagen_train = ImageDataGenerator(rotation_range = 15, # 돌리는 각도 \n",
    "                             width_shift_range = 0.15, # 0.15 우로 이동, 1 이상이면 픽셀 수로 변환\n",
    "                             height_shift_range = 0.15, # 0.15 위로 이동, 1 이상이면 픽셀 수로 변환\n",
    "                             shear_range = 0.15, # 휘어짐 정도\n",
    "                             zoom_range = 0.4,) # 확대 정도\n",
    "\n",
    "datagen_train.fit(x_train)"
   ]
  },
  {
   "cell_type": "code",
   "execution_count": 37,
   "metadata": {
    "Collapsed": "false",
    "colab": {
     "base_uri": "https://localhost:8080/",
     "height": 1000
    },
    "colab_type": "code",
    "id": "gIT4nez36cBM",
    "outputId": "7a6207b3-ad68-4a1c-d672-b56bb7e640fb"
   },
   "outputs": [
    {
     "name": "stdout",
     "output_type": "stream",
     "text": [
      "Epoch 1/100\n",
      "WARNING:tensorflow:Callbacks method `on_test_batch_end` is slow compared to the batch time (batch time: 0.0019s vs `on_test_batch_end` time: 0.0030s). Check your callbacks.\n",
      "1200/1200 - 23s - loss: 0.3581 - accuracy: 0.8833 - val_loss: 0.0603 - val_accuracy: 0.9833\n",
      "Epoch 2/100\n",
      "1200/1200 - 23s - loss: 0.1419 - accuracy: 0.9562 - val_loss: 0.0331 - val_accuracy: 0.9897\n",
      "Epoch 3/100\n",
      "1200/1200 - 23s - loss: 0.1162 - accuracy: 0.9639 - val_loss: 0.0263 - val_accuracy: 0.9918\n",
      "Epoch 4/100\n",
      "1200/1200 - 23s - loss: 0.1016 - accuracy: 0.9688 - val_loss: 0.0277 - val_accuracy: 0.9918\n",
      "Epoch 5/100\n",
      "1200/1200 - 23s - loss: 0.0900 - accuracy: 0.9722 - val_loss: 0.0261 - val_accuracy: 0.9918\n",
      "Epoch 6/100\n",
      "1200/1200 - 23s - loss: 0.0846 - accuracy: 0.9738 - val_loss: 0.0254 - val_accuracy: 0.9933\n",
      "Epoch 7/100\n",
      "1200/1200 - 23s - loss: 0.0805 - accuracy: 0.9736 - val_loss: 0.0275 - val_accuracy: 0.9908\n",
      "Epoch 8/100\n",
      "1200/1200 - 23s - loss: 0.0709 - accuracy: 0.9777 - val_loss: 0.0208 - val_accuracy: 0.9948\n",
      "Epoch 9/100\n",
      "1200/1200 - 23s - loss: 0.0664 - accuracy: 0.9796 - val_loss: 0.0227 - val_accuracy: 0.9940\n",
      "Epoch 10/100\n",
      "1200/1200 - 23s - loss: 0.0615 - accuracy: 0.9805 - val_loss: 0.0256 - val_accuracy: 0.9928\n",
      "Epoch 11/100\n",
      "1200/1200 - 23s - loss: 0.0603 - accuracy: 0.9806 - val_loss: 0.0163 - val_accuracy: 0.9946\n",
      "Epoch 12/100\n",
      "1200/1200 - 23s - loss: 0.0579 - accuracy: 0.9825 - val_loss: 0.0259 - val_accuracy: 0.9924\n",
      "Epoch 13/100\n",
      "1200/1200 - 23s - loss: 0.0571 - accuracy: 0.9820 - val_loss: 0.0144 - val_accuracy: 0.9958\n",
      "Epoch 14/100\n",
      "1200/1200 - 23s - loss: 0.0528 - accuracy: 0.9847 - val_loss: 0.0190 - val_accuracy: 0.9942\n",
      "Epoch 15/100\n",
      "1200/1200 - 23s - loss: 0.0556 - accuracy: 0.9831 - val_loss: 0.0148 - val_accuracy: 0.9954\n",
      "Epoch 16/100\n",
      "1200/1200 - 23s - loss: 0.0494 - accuracy: 0.9841 - val_loss: 0.0252 - val_accuracy: 0.9919\n",
      "Epoch 17/100\n",
      "1200/1200 - 23s - loss: 0.0498 - accuracy: 0.9849 - val_loss: 0.0163 - val_accuracy: 0.9953\n",
      "Epoch 18/100\n",
      "\n",
      "Epoch 00018: ReduceLROnPlateau reducing learning rate to 0.0024999999441206455.\n",
      "1200/1200 - 23s - loss: 0.0507 - accuracy: 0.9848 - val_loss: 0.0138 - val_accuracy: 0.9957\n",
      "Epoch 19/100\n",
      "1200/1200 - 23s - loss: 0.0320 - accuracy: 0.9901 - val_loss: 0.0122 - val_accuracy: 0.9959\n",
      "Epoch 20/100\n",
      "1200/1200 - 23s - loss: 0.0286 - accuracy: 0.9907 - val_loss: 0.0120 - val_accuracy: 0.9966\n",
      "Epoch 21/100\n",
      "1200/1200 - 23s - loss: 0.0294 - accuracy: 0.9909 - val_loss: 0.0094 - val_accuracy: 0.9971\n",
      "Epoch 22/100\n",
      "\n",
      "Epoch 00022: ReduceLROnPlateau reducing learning rate to 0.0006249999860301614.\n",
      "1200/1200 - 23s - loss: 0.0287 - accuracy: 0.9913 - val_loss: 0.0091 - val_accuracy: 0.9970\n",
      "Epoch 23/100\n",
      "1200/1200 - 23s - loss: 0.0251 - accuracy: 0.9919 - val_loss: 0.0092 - val_accuracy: 0.9972\n",
      "Epoch 24/100\n",
      "1200/1200 - 23s - loss: 0.0251 - accuracy: 0.9923 - val_loss: 0.0090 - val_accuracy: 0.9974\n",
      "Epoch 25/100\n",
      "1200/1200 - 23s - loss: 0.0229 - accuracy: 0.9929 - val_loss: 0.0086 - val_accuracy: 0.9973\n",
      "Epoch 26/100\n",
      "1200/1200 - 23s - loss: 0.0235 - accuracy: 0.9924 - val_loss: 0.0091 - val_accuracy: 0.9967\n",
      "Epoch 27/100\n",
      "1200/1200 - 23s - loss: 0.0227 - accuracy: 0.9927 - val_loss: 0.0089 - val_accuracy: 0.9973\n",
      "Epoch 28/100\n",
      "1200/1200 - 23s - loss: 0.0248 - accuracy: 0.9925 - val_loss: 0.0089 - val_accuracy: 0.9973\n",
      "Epoch 29/100\n",
      "\n",
      "Epoch 00029: ReduceLROnPlateau reducing learning rate to 0.00015624999650754035.\n",
      "1200/1200 - 23s - loss: 0.0239 - accuracy: 0.9921 - val_loss: 0.0085 - val_accuracy: 0.9973\n",
      "Epoch 30/100\n",
      "1200/1200 - 23s - loss: 0.0227 - accuracy: 0.9929 - val_loss: 0.0087 - val_accuracy: 0.9974\n",
      "Epoch 31/100\n",
      "1200/1200 - 23s - loss: 0.0220 - accuracy: 0.9928 - val_loss: 0.0089 - val_accuracy: 0.9973\n",
      "Epoch 32/100\n",
      "1200/1200 - 23s - loss: 0.0220 - accuracy: 0.9930 - val_loss: 0.0084 - val_accuracy: 0.9976\n",
      "Epoch 33/100\n",
      "1200/1200 - 23s - loss: 0.0209 - accuracy: 0.9934 - val_loss: 0.0086 - val_accuracy: 0.9974\n",
      "Epoch 34/100\n",
      "1200/1200 - 23s - loss: 0.0220 - accuracy: 0.9932 - val_loss: 0.0087 - val_accuracy: 0.9975\n",
      "Epoch 35/100\n",
      "\n",
      "Epoch 00035: ReduceLROnPlateau reducing learning rate to 3.9062499126885086e-05.\n",
      "1200/1200 - 23s - loss: 0.0222 - accuracy: 0.9928 - val_loss: 0.0086 - val_accuracy: 0.9974\n",
      "Epoch 36/100\n",
      "1200/1200 - 23s - loss: 0.0200 - accuracy: 0.9938 - val_loss: 0.0086 - val_accuracy: 0.9976\n",
      "Epoch 37/100\n",
      "1200/1200 - 23s - loss: 0.0223 - accuracy: 0.9927 - val_loss: 0.0083 - val_accuracy: 0.9975\n",
      "Epoch 38/100\n",
      "\n",
      "Epoch 00038: ReduceLROnPlateau reducing learning rate to 1e-05.\n",
      "1200/1200 - 23s - loss: 0.0203 - accuracy: 0.9934 - val_loss: 0.0085 - val_accuracy: 0.9974\n",
      "Epoch 39/100\n",
      "1200/1200 - 23s - loss: 0.0209 - accuracy: 0.9932 - val_loss: 0.0083 - val_accuracy: 0.9974\n",
      "Epoch 40/100\n",
      "1200/1200 - 23s - loss: 0.0213 - accuracy: 0.9932 - val_loss: 0.0081 - val_accuracy: 0.9976\n",
      "Epoch 41/100\n",
      "1200/1200 - 23s - loss: 0.0194 - accuracy: 0.9932 - val_loss: 0.0085 - val_accuracy: 0.9973\n",
      "Epoch 42/100\n",
      "1200/1200 - 23s - loss: 0.0205 - accuracy: 0.9933 - val_loss: 0.0083 - val_accuracy: 0.9973\n",
      "Epoch 43/100\n",
      "1200/1200 - 23s - loss: 0.0211 - accuracy: 0.9929 - val_loss: 0.0087 - val_accuracy: 0.9973\n",
      "Epoch 44/100\n",
      "1200/1200 - 23s - loss: 0.0208 - accuracy: 0.9933 - val_loss: 0.0084 - val_accuracy: 0.9974\n",
      "Epoch 45/100\n",
      "1200/1200 - 23s - loss: 0.0215 - accuracy: 0.9932 - val_loss: 0.0085 - val_accuracy: 0.9975\n",
      "Epoch 46/100\n",
      "1200/1200 - 23s - loss: 0.0211 - accuracy: 0.9935 - val_loss: 0.0083 - val_accuracy: 0.9975\n",
      "Epoch 47/100\n",
      "1200/1200 - 23s - loss: 0.0211 - accuracy: 0.9931 - val_loss: 0.0083 - val_accuracy: 0.9975\n",
      "Epoch 48/100\n",
      "1200/1200 - 23s - loss: 0.0214 - accuracy: 0.9933 - val_loss: 0.0086 - val_accuracy: 0.9973\n",
      "Epoch 49/100\n",
      "1200/1200 - 23s - loss: 0.0223 - accuracy: 0.9927 - val_loss: 0.0086 - val_accuracy: 0.9974\n",
      "Epoch 50/100\n",
      "1200/1200 - 23s - loss: 0.0217 - accuracy: 0.9929 - val_loss: 0.0084 - val_accuracy: 0.9973\n",
      "Epoch 51/100\n",
      "1200/1200 - 23s - loss: 0.0222 - accuracy: 0.9931 - val_loss: 0.0083 - val_accuracy: 0.9974\n",
      "Epoch 52/100\n",
      "1200/1200 - 23s - loss: 0.0218 - accuracy: 0.9927 - val_loss: 0.0082 - val_accuracy: 0.9976\n",
      "Epoch 53/100\n",
      "1200/1200 - 23s - loss: 0.0219 - accuracy: 0.9932 - val_loss: 0.0086 - val_accuracy: 0.9973\n",
      "Epoch 54/100\n",
      "1200/1200 - 23s - loss: 0.0204 - accuracy: 0.9932 - val_loss: 0.0084 - val_accuracy: 0.9973\n",
      "Epoch 55/100\n",
      "1200/1200 - 23s - loss: 0.0222 - accuracy: 0.9929 - val_loss: 0.0085 - val_accuracy: 0.9973\n",
      "Epoch 56/100\n",
      "1200/1200 - 23s - loss: 0.0224 - accuracy: 0.9933 - val_loss: 0.0085 - val_accuracy: 0.9976\n",
      "Epoch 57/100\n",
      "1200/1200 - 23s - loss: 0.0200 - accuracy: 0.9933 - val_loss: 0.0086 - val_accuracy: 0.9973\n",
      "Epoch 58/100\n",
      "1200/1200 - 23s - loss: 0.0210 - accuracy: 0.9933 - val_loss: 0.0084 - val_accuracy: 0.9974\n",
      "Epoch 59/100\n",
      "1200/1200 - 23s - loss: 0.0190 - accuracy: 0.9938 - val_loss: 0.0084 - val_accuracy: 0.9976\n",
      "Epoch 60/100\n",
      "1200/1200 - 23s - loss: 0.0204 - accuracy: 0.9934 - val_loss: 0.0085 - val_accuracy: 0.9973\n",
      "Epoch 61/100\n",
      "1200/1200 - 23s - loss: 0.0203 - accuracy: 0.9936 - val_loss: 0.0084 - val_accuracy: 0.9974\n",
      "Epoch 62/100\n",
      "1200/1200 - 23s - loss: 0.0212 - accuracy: 0.9934 - val_loss: 0.0089 - val_accuracy: 0.9973\n",
      "Epoch 63/100\n",
      "1200/1200 - 23s - loss: 0.0199 - accuracy: 0.9940 - val_loss: 0.0086 - val_accuracy: 0.9973\n",
      "Epoch 64/100\n",
      "1200/1200 - 23s - loss: 0.0206 - accuracy: 0.9939 - val_loss: 0.0084 - val_accuracy: 0.9974\n",
      "Epoch 65/100\n",
      "1200/1200 - 23s - loss: 0.0204 - accuracy: 0.9934 - val_loss: 0.0085 - val_accuracy: 0.9973\n",
      "Epoch 66/100\n",
      "1200/1200 - 23s - loss: 0.0214 - accuracy: 0.9932 - val_loss: 0.0084 - val_accuracy: 0.9974\n",
      "Epoch 67/100\n",
      "1200/1200 - 23s - loss: 0.0210 - accuracy: 0.9932 - val_loss: 0.0085 - val_accuracy: 0.9974\n",
      "Epoch 68/100\n",
      "1200/1200 - 23s - loss: 0.0209 - accuracy: 0.9929 - val_loss: 0.0084 - val_accuracy: 0.9973\n",
      "Epoch 69/100\n",
      "1200/1200 - 23s - loss: 0.0209 - accuracy: 0.9930 - val_loss: 0.0084 - val_accuracy: 0.9974\n",
      "Epoch 70/100\n",
      "Restoring model weights from the end of the best epoch.\n",
      "1200/1200 - 23s - loss: 0.0199 - accuracy: 0.9937 - val_loss: 0.0085 - val_accuracy: 0.9973\n",
      "Epoch 00070: early stopping\n"
     ]
    }
   ],
   "source": [
    "batch_size = 40\n",
    "step_train = x_train.shape[0] // batch_size\n",
    "step_val = x_val.shape[0] // batch_size\n",
    "\n",
    "history = model.fit(datagen_train.flow(x_train, y_train, batch_size = batch_size),\n",
    "                              steps_per_epoch = step_train,\n",
    "                              epochs = 100,\n",
    "                              validation_data = (x_val, y_val),\n",
    "                              callbacks = [learning_rate_reduction, es],\n",
    "                              verbose = 2)"
   ]
  },
  {
   "cell_type": "code",
   "execution_count": 38,
   "metadata": {
    "Collapsed": "false",
    "colab": {
     "base_uri": "https://localhost:8080/",
     "height": 444
    },
    "colab_type": "code",
    "id": "z910Yj_a6cBO",
    "outputId": "773f5526-2d00-4124-dddc-be0bab7df0ae"
   },
   "outputs": [
    {
     "data": {
      "image/png": "[encoded data removed]",
      "text/plain": [
       "<Figure size 1080x504 with 2 Axes>"
      ]
     },
     "metadata": {
      "needs_background": "light",
      "tags": []
     },
     "output_type": "display_data"
    }
   ],
   "source": [
    "f, ax = plt.subplots(1,2, figsize = (15, 7))\n",
    "pd.DataFrame(history.history)[['accuracy', 'val_accuracy']].plot(ax = ax[0])\n",
    "ax[0].grid(True)\n",
    "ax[0].set_title('accuracy')\n",
    "\n",
    "pd.DataFrame(history.history)[['loss', 'val_loss']].plot(ax = ax[1])\n",
    "ax[1].grid(True)\n",
    "ax[1].set_title('loss')\n",
    "\n",
    "plt.show()"
   ]
  },
  {
   "cell_type": "markdown",
   "metadata": {
    "Collapsed": "false",
    "colab_type": "text",
    "id": "HiUApPow6cBP"
   },
   "source": [
    "# 5. 제출"
   ]
  },
  {
   "cell_type": "code",
   "execution_count": 40,
   "metadata": {
    "Collapsed": "false",
    "colab": {
     "base_uri": "https://localhost:8080/",
     "height": 204
    },
    "colab_type": "code",
    "id": "I9nybg2L6cBP",
    "outputId": "d7f6570f-e5e7-4470-c3b8-5a93c47e00a9"
   },
   "outputs": [
    {
     "data": {
      "text/html": [
       "<div>\n",
       "<style scoped>\n",
       "    .dataframe tbody tr th:only-of-type {\n",
       "        vertical-align: middle;\n",
       "    }\n",
       "\n",
       "    .dataframe tbody tr th {\n",
       "        vertical-align: top;\n",
       "    }\n",
       "\n",
       "    .dataframe thead th {\n",
       "        text-align: right;\n",
       "    }\n",
       "</style>\n",
       "<table border=\"1\" class=\"dataframe\">\n",
       "  <thead>\n",
       "    <tr style=\"text-align: right;\">\n",
       "      <th></th>\n",
       "      <th>id</th>\n",
       "      <th>label</th>\n",
       "    </tr>\n",
       "  </thead>\n",
       "  <tbody>\n",
       "    <tr>\n",
       "      <th>0</th>\n",
       "      <td>0</td>\n",
       "      <td>3</td>\n",
       "    </tr>\n",
       "    <tr>\n",
       "      <th>1</th>\n",
       "      <td>1</td>\n",
       "      <td>0</td>\n",
       "    </tr>\n",
       "    <tr>\n",
       "      <th>2</th>\n",
       "      <td>2</td>\n",
       "      <td>2</td>\n",
       "    </tr>\n",
       "    <tr>\n",
       "      <th>3</th>\n",
       "      <td>3</td>\n",
       "      <td>6</td>\n",
       "    </tr>\n",
       "    <tr>\n",
       "      <th>4</th>\n",
       "      <td>4</td>\n",
       "      <td>7</td>\n",
       "    </tr>\n",
       "  </tbody>\n",
       "</table>\n",
       "</div>"
      ],
      "text/plain": [
       "   id  label\n",
       "0   0      3\n",
       "1   1      0\n",
       "2   2      2\n",
       "3   3      6\n",
       "4   4      7"
      ]
     },
     "execution_count": 40,
     "metadata": {
      "tags": []
     },
     "output_type": "execute_result"
    }
   ],
   "source": [
    "try:\n",
    "  sub = pd.read_csv('/kaggle/input/Kannada-MNIST/sample_submission.csv')\n",
    "except:\n",
    "  sub = pd.read_csv('./submission.csv')\n",
    "sub.head()"
   ]
  },
  {
   "cell_type": "code",
   "execution_count": 41,
   "metadata": {
    "Collapsed": "false",
    "colab": {},
    "colab_type": "code",
    "id": "RNxAwjdp6cBR"
   },
   "outputs": [],
   "source": [
    "pred = model.predict(x_test)\n",
    "pred = np.argmax(pred, axis = 1)"
   ]
  },
  {
   "cell_type": "code",
   "execution_count": 42,
   "metadata": {
    "Collapsed": "false",
    "colab": {
     "base_uri": "https://localhost:8080/",
     "height": 204
    },
    "colab_type": "code",
    "id": "GdHwV9636cBT",
    "outputId": "64b5ca1a-fa38-404d-fc31-26d39c53ac36"
   },
   "outputs": [
    {
     "data": {
      "text/html": [
       "<div>\n",
       "<style scoped>\n",
       "    .dataframe tbody tr th:only-of-type {\n",
       "        vertical-align: middle;\n",
       "    }\n",
       "\n",
       "    .dataframe tbody tr th {\n",
       "        vertical-align: top;\n",
       "    }\n",
       "\n",
       "    .dataframe thead th {\n",
       "        text-align: right;\n",
       "    }\n",
       "</style>\n",
       "<table border=\"1\" class=\"dataframe\">\n",
       "  <thead>\n",
       "    <tr style=\"text-align: right;\">\n",
       "      <th></th>\n",
       "      <th>id</th>\n",
       "      <th>label</th>\n",
       "    </tr>\n",
       "  </thead>\n",
       "  <tbody>\n",
       "    <tr>\n",
       "      <th>0</th>\n",
       "      <td>0</td>\n",
       "      <td>3</td>\n",
       "    </tr>\n",
       "    <tr>\n",
       "      <th>1</th>\n",
       "      <td>1</td>\n",
       "      <td>0</td>\n",
       "    </tr>\n",
       "    <tr>\n",
       "      <th>2</th>\n",
       "      <td>2</td>\n",
       "      <td>2</td>\n",
       "    </tr>\n",
       "    <tr>\n",
       "      <th>3</th>\n",
       "      <td>3</td>\n",
       "      <td>6</td>\n",
       "    </tr>\n",
       "    <tr>\n",
       "      <th>4</th>\n",
       "      <td>4</td>\n",
       "      <td>7</td>\n",
       "    </tr>\n",
       "  </tbody>\n",
       "</table>\n",
       "</div>"
      ],
      "text/plain": [
       "   id  label\n",
       "0   0      3\n",
       "1   1      0\n",
       "2   2      2\n",
       "3   3      6\n",
       "4   4      7"
      ]
     },
     "execution_count": 42,
     "metadata": {
      "tags": []
     },
     "output_type": "execute_result"
    }
   ],
   "source": [
    "sub['label'] = pred\n",
    "sub.head()"
   ]
  },
  {
   "cell_type": "code",
   "execution_count": null,
   "metadata": {
    "Collapsed": "false",
    "colab": {},
    "colab_type": "code",
    "id": "A73XbaF36cBV"
   },
   "outputs": [],
   "source": [
    "sub.to_csv('./submission.csv', index = False)"
   ]
  },
  {
   "cell_type": "code",
   "execution_count": null,
   "metadata": {
    "Collapsed": "false",
    "colab": {},
    "colab_type": "code",
    "id": "-Av744p46cBZ"
   },
   "outputs": [],
   "source": []
  }
 ],
 "metadata": {
  "accelerator": "GPU",
  "colab": {
   "name": "kannada-mnist-carvin-s-log.ipynb",
   "provenance": [],
   "toc_visible": true
  },
  "kernelspec": {
   "display_name": "Python 3",
   "language": "python",
   "name": "python3"
  },
  "language_info": {
   "codemirror_mode": {
    "name": "ipython",
    "version": 3
   },
   "file_extension": ".py",
   "mimetype": "text/x-python",
   "name": "python",
   "nbconvert_exporter": "python",
   "pygments_lexer": "ipython3",
   "version": "3.7.6"
  }
 },
 "nbformat": 4,
 "nbformat_minor": 4
}
